{
 "cells": [
  {
   "cell_type": "markdown",
   "id": "regulated-safety",
   "metadata": {},
   "source": [
    "# CNN\n",
    "\n",
    "The spatial structure in an image is not well captured when flattening the image pixels to a vector.  \n",
    "\n",
    "* Advantages of CNN\n",
    "    * Fewer parameters in the model\n",
    "    * Invariant to object distortions and orientations\n",
    "    * Automatically learn the features and structures"
   ]
  },
  {
   "cell_type": "markdown",
   "id": "alleged-chaos",
   "metadata": {},
   "source": [
    "* Convoluional Layer\n",
    "    * Filters\n",
    "    * Feature maps\n",
    "* Pooling Layer - Downsizes the feature maps\n",
    "* Fully connected Layer - Flattened feedword neural network"
   ]
  },
  {
   "cell_type": "markdown",
   "id": "hispanic-swaziland",
   "metadata": {},
   "source": [
    "###  Setup"
   ]
  },
  {
   "cell_type": "code",
   "execution_count": 22,
   "id": "sized-restoration",
   "metadata": {},
   "outputs": [],
   "source": [
    "import numpy as np\n",
    "from tensorflow import keras\n",
    "from tensorflow.keras import layers"
   ]
  },
  {
   "cell_type": "markdown",
   "id": "advanced-phoenix",
   "metadata": {},
   "source": [
    "### Data Preparation"
   ]
  },
  {
   "cell_type": "code",
   "execution_count": 23,
   "id": "tender-tractor",
   "metadata": {},
   "outputs": [],
   "source": [
    "num_classes = 10\n",
    "input_shape = (28, 28, 1)\n",
    "\n",
    "# the data, split between train and test sets\n",
    "(x_train, y_train), (x_test, y_test) = keras.datasets.mnist.load_data()\n",
    "\n",
    "## Scale images to the [0, 1] range\n",
    "#x_train = x_train.astype(\"float32\") / 255\n",
    "#x_test = x_test.astype(\"float32\") / 255\n",
    "## Make sure images have shape (28, 28, 1)#\n",
    "x_train = np.expand_dims(x_train, -1)\n",
    "x_test = np.expand_dims(x_test, -1)\n",
    "#print(\"x_train shape:\", x_train.shape)\n",
    "#print(x_train.shape[0], \"train samples\")\n",
    "#print(x_test.shape[0], \"test samples\")\n",
    "\n",
    "\n",
    "# convert class vectors to binary class matrices\n",
    "y_train = keras.utils.to_categorical(y_train, num_classes)\n",
    "y_test = keras.utils.to_categorical(y_test, num_classes)"
   ]
  },
  {
   "cell_type": "markdown",
   "id": "personal-chapter",
   "metadata": {},
   "source": [
    "### Build model"
   ]
  },
  {
   "cell_type": "code",
   "execution_count": 24,
   "id": "consecutive-review",
   "metadata": {},
   "outputs": [
    {
     "name": "stdout",
     "output_type": "stream",
     "text": [
      "Model: \"sequential_6\"\n",
      "_________________________________________________________________\n",
      "Layer (type)                 Output Shape              Param #   \n",
      "=================================================================\n",
      "conv2d_9 (Conv2D)            (None, 26, 26, 32)        320       \n",
      "_________________________________________________________________\n",
      "max_pooling2d_8 (MaxPooling2 (None, 13, 13, 32)        0         \n",
      "_________________________________________________________________\n",
      "conv2d_10 (Conv2D)           (None, 11, 11, 64)        18496     \n",
      "_________________________________________________________________\n",
      "max_pooling2d_9 (MaxPooling2 (None, 5, 5, 64)          0         \n",
      "_________________________________________________________________\n",
      "flatten_4 (Flatten)          (None, 1600)              0         \n",
      "_________________________________________________________________\n",
      "dropout_4 (Dropout)          (None, 1600)              0         \n",
      "_________________________________________________________________\n",
      "dense_7 (Dense)              (None, 10)                16010     \n",
      "=================================================================\n",
      "Total params: 34,826\n",
      "Trainable params: 34,826\n",
      "Non-trainable params: 0\n",
      "_________________________________________________________________\n"
     ]
    }
   ],
   "source": [
    "from tensorflow.keras.models import Sequential\n",
    "from tensorflow.keras.layers import Dense, Conv2D\n",
    "from tensorflow.keras.layers import Dense, MaxPooling2D, Conv2D, Flatten, Dropout\n",
    "\n",
    "\n",
    "\n",
    "model=Sequential()\n",
    "\n",
    "model.add(Conv2D(32, kernel_size=(3,3), activation='relu', input_shape=input_shape))\n",
    "model.add(MaxPooling2D(pool_size=(2, 2)))\n",
    "model.add(Conv2D(64, kernel_size=(3,3), activation='relu'))\n",
    "model.add(MaxPooling2D(pool_size=(2, 2)))\n",
    "model.add(Flatten())\n",
    "model.add(Dropout(0.5))\n",
    "#model.add(Dense(units=32, activation='relu'))\n",
    "model.add(Dense(num_classes, activation='softmax'))\n",
    "\n",
    "model.summary()\n"
   ]
  },
  {
   "cell_type": "code",
   "execution_count": 25,
   "id": "bound-timing",
   "metadata": {},
   "outputs": [
    {
     "name": "stdout",
     "output_type": "stream",
     "text": [
      "Epoch 1/5\n",
      "375/375 [==============================] - 32s 85ms/step - loss: 1.7995 - accuracy: 0.8081 - val_loss: 0.1465 - val_accuracy: 0.9578\n",
      "Epoch 2/5\n",
      "375/375 [==============================] - 28s 74ms/step - loss: 0.2556 - accuracy: 0.9259 - val_loss: 0.0958 - val_accuracy: 0.9712\n",
      "Epoch 3/5\n",
      "375/375 [==============================] - 29s 78ms/step - loss: 0.1972 - accuracy: 0.9437 - val_loss: 0.0797 - val_accuracy: 0.9754\n",
      "Epoch 4/5\n",
      "375/375 [==============================] - 29s 77ms/step - loss: 0.1715 - accuracy: 0.9507 - val_loss: 0.0747 - val_accuracy: 0.9776\n",
      "Epoch 5/5\n",
      "375/375 [==============================] - 31s 83ms/step - loss: 0.1610 - accuracy: 0.9529 - val_loss: 0.0704 - val_accuracy: 0.9793\n"
     ]
    }
   ],
   "source": [
    "\n",
    "model.compile(loss=\"categorical_crossentropy\", optimizer=\"adam\", metrics=[\"accuracy\"])\n",
    "\n",
    "history=model.fit(x_train, y_train, batch_size=128, epochs=5, validation_split=0.2)"
   ]
  },
  {
   "cell_type": "code",
   "execution_count": 28,
   "id": "japanese-puzzle",
   "metadata": {},
   "outputs": [],
   "source": [
    "from matplotlib import pyplot as plt\n",
    "def plot_acc_loss(history):\n",
    "    plt.plot(history.history['accuracy'])\n",
    "    plt.plot(history.history['val_accuracy'])\n",
    "    plt.title('model accuracy')\n",
    "    plt.ylabel('accuracy')\n",
    "    plt.xlabel('epoch')\n",
    "    plt.legend(['training', 'validation'], loc='best')\n",
    "\n",
    "    plt.show()\n",
    "\n",
    "    plt.plot(history.history['loss'])\n",
    "    plt.plot(history.history['val_loss'])\n",
    "    plt.title('model loss')\n",
    "    plt.ylabel('loss')\n",
    "\n",
    "    plt.xlabel('epoch')\n",
    "    plt.legend(['training', 'validation'], loc='best')\n",
    "\n",
    "    plt.show()"
   ]
  },
  {
   "cell_type": "code",
   "execution_count": 29,
   "id": "flush-regular",
   "metadata": {},
   "outputs": [
    {
     "data": {
      "image/png": "[encoded data removed]",
      "text/plain": [
       "<Figure size 432x288 with 1 Axes>"
      ]
     },
     "metadata": {
      "needs_background": "light"
     },
     "output_type": "display_data"
    },
    {
     "data": {
      "image/png": "[encoded data removed]",
      "text/plain": [
       "<Figure size 432x288 with 1 Axes>"
      ]
     },
     "metadata": {
      "needs_background": "light"
     },
     "output_type": "display_data"
    }
   ],
   "source": [
    "plot_acc_loss(history)"
   ]
  },
  {
   "cell_type": "markdown",
   "id": "automotive-information",
   "metadata": {},
   "source": [
    "### Evaluate the model"
   ]
  },
  {
   "cell_type": "code",
   "execution_count": 30,
   "id": "pressing-folks",
   "metadata": {},
   "outputs": [
    {
     "name": "stdout",
     "output_type": "stream",
     "text": [
      "Test loss: 0.06993807107210159\n",
      "Test accuracy: 0.9783999919891357\n"
     ]
    }
   ],
   "source": [
    "score = model.evaluate(x_test, y_test, verbose=0)\n",
    "print(\"Test loss:\", score[0])\n",
    "print(\"Test accuracy:\", score[1])"
   ]
  },
  {
   "cell_type": "markdown",
   "id": "computational-annual",
   "metadata": {},
   "source": [
    "## Vision models\n",
    "\n",
    "- You can build and train your model and do hyper parameter optimization\n",
    "- Transfer learning. Take the existing pre-trained models and apply to your case. "
   ]
  },
  {
   "cell_type": "markdown",
   "id": "manufactured-transcription",
   "metadata": {},
   "source": [
    "### We saw that CNN is good at capturing the structure and pattern in the dataset. Can we apply CNN to other domains like NLP? "
   ]
  }
 ],
 "metadata": {
  "kernelspec": {
   "display_name": "Python 3",
   "language": "python",
   "name": "python3"
  },
  "language_info": {
   "codemirror_mode": {
    "name": "ipython",
    "version": 3
   },
   "file_extension": ".py",
   "mimetype": "text/x-python",
   "name": "python",
   "nbconvert_exporter": "python",
   "pygments_lexer": "ipython3",
   "version": "3.6.13"
  }
 },
 "nbformat": 4,
 "nbformat_minor": 5
}
