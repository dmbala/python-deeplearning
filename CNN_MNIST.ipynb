{
 "cells": [
  {
   "cell_type": "markdown",
   "id": "regulated-safety",
   "metadata": {},
   "source": [
    "# CNN\n",
    "\n",
    "The spatial structure in an image is not well captured when flattening the image pixels to a vector.  \n",
    "\n",
    "* Advantages of CNN\n",
    "    * Fewer parameters in the model\n",
    "    * Invariant to object distortions and orientations\n",
    "    * Automatically learn the features and structures"
   ]
  },
  {
   "cell_type": "markdown",
   "id": "alleged-chaos",
   "metadata": {},
   "source": [
    "* Convoluional Layer\n",
    "    * Filters\n",
    "    * Feature maps\n",
    "* Pooling Layer - Downsizes the feature maps\n",
    "* Fully connected Layer - Flattened feedword neural network"
   ]
  },
  {
   "cell_type": "markdown",
   "id": "hispanic-swaziland",
   "metadata": {},
   "source": [
    "###  Setup"
   ]
  },
  {
   "cell_type": "code",
   "execution_count": 1,
   "id": "sized-restoration",
   "metadata": {},
   "outputs": [],
   "source": [
    "import numpy as np\n",
    "from tensorflow import keras\n",
    "from tensorflow.keras import layers"
   ]
  },
  {
   "cell_type": "markdown",
   "id": "advanced-phoenix",
   "metadata": {},
   "source": [
    "### Data Preparation"
   ]
  },
  {
   "cell_type": "code",
   "execution_count": 2,
   "id": "tender-tractor",
   "metadata": {},
   "outputs": [],
   "source": [
    "num_classes = 10\n",
    "input_shape = (28, 28, 1)\n",
    "\n",
    "# the data, split between train and test sets\n",
    "(x_train, y_train), (x_test, y_test) = keras.datasets.mnist.load_data()\n",
    "\n",
    "## Scale images to the [0, 1] range\n",
    "#x_train = x_train.astype(\"float32\") / 255\n",
    "#x_test = x_test.astype(\"float32\") / 255\n",
    "## Make sure images have shape (28, 28, 1)#\n",
    "x_train = np.expand_dims(x_train, -1)\n",
    "x_test = np.expand_dims(x_test, -1)\n",
    "#print(\"x_train shape:\", x_train.shape)\n",
    "#print(x_train.shape[0], \"train samples\")\n",
    "#print(x_test.shape[0], \"test samples\")\n",
    "\n",
    "\n",
    "# convert class vectors to binary class matrices\n",
    "y_train = keras.utils.to_categorical(y_train, num_classes)\n",
    "y_test = keras.utils.to_categorical(y_test, num_classes)"
   ]
  },
  {
   "cell_type": "markdown",
   "id": "personal-chapter",
   "metadata": {},
   "source": [
    "### Build model"
   ]
  },
  {
   "cell_type": "code",
   "execution_count": 3,
   "id": "consecutive-review",
   "metadata": {},
   "outputs": [
    {
     "name": "stdout",
     "output_type": "stream",
     "text": [
      "Model: \"sequential\"\n",
      "_________________________________________________________________\n",
      "Layer (type)                 Output Shape              Param #   \n",
      "=================================================================\n",
      "conv2d (Conv2D)              (None, 26, 26, 32)        320       \n",
      "_________________________________________________________________\n",
      "max_pooling2d (MaxPooling2D) (None, 13, 13, 32)        0         \n",
      "_________________________________________________________________\n",
      "conv2d_1 (Conv2D)            (None, 11, 11, 64)        18496     \n",
      "_________________________________________________________________\n",
      "max_pooling2d_1 (MaxPooling2 (None, 5, 5, 64)          0         \n",
      "_________________________________________________________________\n",
      "flatten (Flatten)            (None, 1600)              0         \n",
      "_________________________________________________________________\n",
      "dropout (Dropout)            (None, 1600)              0         \n",
      "_________________________________________________________________\n",
      "dense (Dense)                (None, 10)                16010     \n",
      "=================================================================\n",
      "Total params: 34,826\n",
      "Trainable params: 34,826\n",
      "Non-trainable params: 0\n",
      "_________________________________________________________________\n"
     ]
    }
   ],
   "source": [
    "from tensorflow.keras.models import Sequential\n",
    "from tensorflow.keras.layers import Dense, Conv2D\n",
    "from tensorflow.keras.layers import Dense, MaxPooling2D, Conv2D, Flatten, Dropout\n",
    "\n",
    "\n",
    "\n",
    "model=Sequential()\n",
    "\n",
    "model.add(Conv2D(32, kernel_size=(3,3), activation='relu', input_shape=input_shape))\n",
    "model.add(MaxPooling2D(pool_size=(2, 2)))\n",
    "model.add(Conv2D(64, kernel_size=(3,3), activation='relu'))\n",
    "model.add(MaxPooling2D(pool_size=(2, 2)))\n",
    "model.add(Flatten())\n",
    "model.add(Dropout(0.5))\n",
    "#model.add(Dense(units=32, activation='relu'))\n",
    "model.add(Dense(num_classes, activation='softmax'))\n",
    "\n",
    "model.summary()\n"
   ]
  },
  {
   "cell_type": "code",
   "execution_count": 4,
   "id": "bound-timing",
   "metadata": {},
   "outputs": [
    {
     "name": "stdout",
     "output_type": "stream",
     "text": [
      "Epoch 1/10\n",
      "375/375 [==============================] - 6s 15ms/step - loss: 1.2454 - accuracy: 0.8284 - val_loss: 0.1156 - val_accuracy: 0.9668\n",
      "Epoch 2/10\n",
      "375/375 [==============================] - 5s 14ms/step - loss: 0.1900 - accuracy: 0.9438 - val_loss: 0.0776 - val_accuracy: 0.9759\n",
      "Epoch 3/10\n",
      "375/375 [==============================] - 5s 14ms/step - loss: 0.1407 - accuracy: 0.9575 - val_loss: 0.0555 - val_accuracy: 0.9823\n",
      "Epoch 4/10\n",
      "375/375 [==============================] - 5s 14ms/step - loss: 0.1171 - accuracy: 0.9646 - val_loss: 0.0532 - val_accuracy: 0.9832\n",
      "Epoch 5/10\n",
      "375/375 [==============================] - 5s 14ms/step - loss: 0.1013 - accuracy: 0.9681 - val_loss: 0.0474 - val_accuracy: 0.9866\n",
      "Epoch 6/10\n",
      "375/375 [==============================] - 6s 15ms/step - loss: 0.0920 - accuracy: 0.9719 - val_loss: 0.0514 - val_accuracy: 0.9857\n",
      "Epoch 7/10\n",
      "375/375 [==============================] - 5s 14ms/step - loss: 0.0831 - accuracy: 0.9738 - val_loss: 0.0460 - val_accuracy: 0.9866\n",
      "Epoch 8/10\n",
      "375/375 [==============================] - 5s 15ms/step - loss: 0.0781 - accuracy: 0.9751 - val_loss: 0.0482 - val_accuracy: 0.9854\n",
      "Epoch 9/10\n",
      "375/375 [==============================] - 5s 14ms/step - loss: 0.0754 - accuracy: 0.9764 - val_loss: 0.0432 - val_accuracy: 0.9869\n",
      "Epoch 10/10\n",
      "375/375 [==============================] - 5s 14ms/step - loss: 0.0701 - accuracy: 0.9775 - val_loss: 0.0419 - val_accuracy: 0.9878\n"
     ]
    }
   ],
   "source": [
    "model.compile(loss=\"categorical_crossentropy\", optimizer=\"adam\", metrics=[\"accuracy\"])\n",
    "history=model.fit(x_train, y_train, batch_size=128, epochs=10, validation_split=0.2)"
   ]
  },
  {
   "cell_type": "code",
   "execution_count": 5,
   "id": "japanese-puzzle",
   "metadata": {},
   "outputs": [],
   "source": [
    "from matplotlib import pyplot as plt\n",
    "def plot_acc_loss(history):\n",
    "    plt.plot(history.history['accuracy'])\n",
    "    plt.plot(history.history['val_accuracy'])\n",
    "    plt.title('model accuracy')\n",
    "    plt.ylabel('accuracy')\n",
    "    plt.xlabel('epoch')\n",
    "    plt.legend(['training', 'validation'], loc='best')\n",
    "\n",
    "    plt.show()\n",
    "\n",
    "    plt.plot(history.history['loss'])\n",
    "    plt.plot(history.history['val_loss'])\n",
    "    plt.title('model loss')\n",
    "    plt.ylabel('loss')\n",
    "\n",
    "    plt.xlabel('epoch')\n",
    "    plt.legend(['training', 'validation'], loc='best')\n",
    "\n",
    "    plt.show()"
   ]
  },
  {
   "cell_type": "code",
   "execution_count": 6,
   "id": "flush-regular",
   "metadata": {},
   "outputs": [
    {
     "data": {
      "image/png": "[encoded data removed]",
      "text/plain": [
       "<Figure size 432x288 with 1 Axes>"
      ]
     },
     "metadata": {
      "needs_background": "light"
     },
     "output_type": "display_data"
    },
    {
     "data": {
      "image/png": "[encoded data removed]",
      "text/plain": [
       "<Figure size 432x288 with 1 Axes>"
      ]
     },
     "metadata": {
      "needs_background": "light"
     },
     "output_type": "display_data"
    }
   ],
   "source": [
    "plot_acc_loss(history)"
   ]
  },
  {
   "cell_type": "markdown",
   "id": "automotive-information",
   "metadata": {},
   "source": [
    "### Evaluate the model"
   ]
  },
  {
   "cell_type": "code",
   "execution_count": 7,
   "id": "pressing-folks",
   "metadata": {},
   "outputs": [
    {
     "name": "stdout",
     "output_type": "stream",
     "text": [
      "Test loss: 0.0417492501437664\n",
      "Test accuracy: 0.987500011920929\n"
     ]
    }
   ],
   "source": [
    "score = model.evaluate(x_test, y_test, verbose=0)\n",
    "print(\"Test loss:\", score[0])\n",
    "print(\"Test accuracy:\", score[1])"
   ]
  },
  {
   "cell_type": "markdown",
   "id": "computational-annual",
   "metadata": {},
   "source": [
    "## Vision models\n",
    "\n",
    "- You can build and train your model and do hyper parameter optimization\n",
    "- Transfer learning. Take the existing pre-trained models and apply to your case. "
   ]
  },
  {
   "cell_type": "markdown",
   "id": "manufactured-transcription",
   "metadata": {},
   "source": [
    "### We saw that CNN is good at capturing the structure and pattern in the dataset. Can we apply CNN to other domains like NLP? "
   ]
  }
 ],
 "metadata": {
  "kernelspec": {
   "display_name": "Python 3",
   "language": "python",
   "name": "python3"
  },
  "language_info": {
   "codemirror_mode": {
    "name": "ipython",
    "version": 3
   },
   "file_extension": ".py",
   "mimetype": "text/x-python",
   "name": "python",
   "nbconvert_exporter": "python",
   "pygments_lexer": "ipython3",
   "version": "3.6.13"
  }
 },
 "nbformat": 4,
 "nbformat_minor": 5
}
